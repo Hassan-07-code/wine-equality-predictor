{
 "cells": [
  {
   "cell_type": "code",
   "execution_count": 1,
   "id": "79288503",
   "metadata": {},
   "outputs": [
    {
     "name": "stdout",
     "output_type": "stream",
     "text": [
      "Accuracy: 0.7821\n"
     ]
    }
   ],
   "source": [
    "import pandas as pd\n",
    "from sklearn.model_selection import train_test_split\n",
    "from sklearn.ensemble import RandomForestClassifier\n",
    "from sklearn.metrics import accuracy_score\n",
    "\n",
    "# Load the dataset\n",
    "data = pd.read_csv(\"winequality-red-cleaned.csv\")\n",
    "\n",
    "# Remove rows where 'quality' is NaN\n",
    "data_clean = data.dropna(subset=[\"quality\"])\n",
    "\n",
    "# Features and target\n",
    "X = data_clean.drop(\"quality\", axis=1)\n",
    "y = data_clean[\"quality\"]\n",
    "\n",
    "# Split into train and test sets\n",
    "X_train, X_test, y_train, y_test = train_test_split(X, y, test_size=0.2, random_state=42)\n",
    "\n",
    "# Initialize and train RandomForestClassifier\n",
    "rf = RandomForestClassifier(random_state=42)\n",
    "rf.fit(X_train, y_train)\n",
    "\n",
    "# Predict on test set\n",
    "y_pred = rf.predict(X_test)\n",
    "\n",
    "# Calculate accuracy\n",
    "accuracy = accuracy_score(y_test, y_pred)\n",
    "print(f\"Accuracy: {accuracy:.4f}\")"
   ]
  },
  {
   "cell_type": "code",
   "execution_count": 2,
   "id": "5e36013e",
   "metadata": {},
   "outputs": [
    {
     "name": "stdout",
     "output_type": "stream",
     "text": [
      "Accuracy with scaled features: 0.7821\n"
     ]
    }
   ],
   "source": [
    "from sklearn.preprocessing import StandardScaler\n",
    "\n",
    "# Feature normalization (Standardization)\n",
    "scaler = StandardScaler()\n",
    "X_train_scaled = scaler.fit_transform(X_train)\n",
    "X_test_scaled = scaler.transform(X_test)\n",
    "\n",
    "# You can now use X_train_scaled and X_test_scaled for model training and evaluation\n",
    "\n",
    "# Example: retrain RandomForestClassifier on scaled data\n",
    "rf_scaled = RandomForestClassifier(random_state=42)\n",
    "rf_scaled.fit(X_train_scaled, y_train)\n",
    "y_pred_scaled = rf_scaled.predict(X_test_scaled)\n",
    "\n",
    "# Evaluate accuracy on scaled features\n",
    "accuracy_scaled = accuracy_score(y_test, y_pred_scaled)\n",
    "print(f\"Accuracy with scaled features: {accuracy_scaled:.4f}\")"
   ]
  },
  {
   "cell_type": "code",
   "execution_count": 3,
   "id": "f4dbcf81",
   "metadata": {},
   "outputs": [
    {
     "name": "stdout",
     "output_type": "stream",
     "text": [
      "Accuracy with normalized features: 0.7821\n"
     ]
    }
   ],
   "source": [
    "from sklearn.preprocessing import MinMaxScaler\n",
    "\n",
    "# Feature normalization (Min-Max Scaling)\n",
    "minmax_scaler = MinMaxScaler()\n",
    "X_train_norm = minmax_scaler.fit_transform(X_train)\n",
    "X_test_norm = minmax_scaler.transform(X_test)\n",
    "\n",
    "# Example: train RandomForestClassifier on normalized data\n",
    "rf_norm = RandomForestClassifier(random_state=42)\n",
    "rf_norm.fit(X_train_norm, y_train)\n",
    "y_pred_norm = rf_norm.predict(X_test_norm)\n",
    "\n",
    "# Evaluate accuracy on normalized features\n",
    "accuracy_norm = accuracy_score(y_test, y_pred_norm)\n",
    "print(f\"Accuracy with normalized features: {accuracy_norm:.4f}\")"
   ]
  },
  {
   "cell_type": "code",
   "execution_count": 4,
   "id": "408aa850",
   "metadata": {},
   "outputs": [],
   "source": [
    "import pickle\n",
    "# After training\n",
    "pickle.dump(rf_scaled, open(\"wine_model.pkl\", \"wb\"))"
   ]
  }
 ],
 "metadata": {
  "kernelspec": {
   "display_name": "Python 3",
   "language": "python",
   "name": "python3"
  },
  "language_info": {
   "codemirror_mode": {
    "name": "ipython",
    "version": 3
   },
   "file_extension": ".py",
   "mimetype": "text/x-python",
   "name": "python",
   "nbconvert_exporter": "python",
   "pygments_lexer": "ipython3",
   "version": "3.12.3"
  }
 },
 "nbformat": 4,
 "nbformat_minor": 5
}
